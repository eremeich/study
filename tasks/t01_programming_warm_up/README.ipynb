{
 "cells": [
  {
   "cell_type": "markdown",
   "metadata": {},
   "source": [
    "Below is implementation of naive algorithm of matrix multiplication (dot operation) using Python lists and Python loops only.\n",
    "The function is lighweight as possible: no external checks, subfuctions, proxy variables, etc. are used: all done in 3 loops in 4 raws. Function returns the result matrix if multiplication is possible and _None_ otherwise.\n",
    "\n",
    "Matrix indencies are compliant with algo defenition described in https://en.wikipedia.org/wiki/Matrix_multiplication#Definition "
   ]
  },
  {
   "cell_type": "code",
   "execution_count": 1,
   "metadata": {},
   "outputs": [
    {
     "name": "stdout",
     "output_type": "stream",
     "text": [
      "def matrix_dot_matrix(x, y):\n",
      "    # Implement an algorithm of multiplication itself using loops and lists\n",
      "    # https://github.com/korobool/hlll_course/blob/master/tasks/programming_warm_up.md\n",
      "    try:\n",
      "        c = []\n",
      "        # X is an n×m matrix and Y is an m×p matrix\n",
      "        n = len(x)\n",
      "        m = len(x[0])\n",
      "        p = len(y[0])\n",
      "        if m != len(y):\n",
      "            print('The product XY is not defined')\n",
      "            return None\n",
      "        # naive algorithm with computational complexity O(n^{3})\n",
      "        # Algo improvements (e.g. Strassen algorithm) are out of scope\n",
      "        for i in range(n):\n",
      "            c.append([])\n",
      "            for j in range(p):\n",
      "                c[i].append(sum(x[i][k]*y[k][j] for k in range(m)))\n",
      "        return c\n",
      "    except Exception as e:\n",
      "        print(e)\n",
      "        return None\n",
      "\n"
     ]
    }
   ],
   "source": [
    "from inspect import getsource\n",
    "from matrix_mult_from_scratch import matrix_dot_matrix\n",
    "print(getsource(matrix_dot_matrix))"
   ]
  },
  {
   "cell_type": "markdown",
   "metadata": {},
   "source": [
    "Usage example:"
   ]
  },
  {
   "cell_type": "code",
   "execution_count": 2,
   "metadata": {},
   "outputs": [
    {
     "name": "stdout",
     "output_type": "stream",
     "text": [
      "[55, 65, 49, 5]\n",
      "[57, 68, 72, 12]\n",
      "[90, 107, 111, 21]\n"
     ]
    }
   ],
   "source": [
    "X = [[1, 7, 3],\n",
    "     [3, 5, 6],\n",
    "     [6, 8, 9]]\n",
    "\n",
    "Y = [[1, 1, 1, 2],\n",
    "     [6, 7, 3, 0],\n",
    "     [4, 5, 9, 1]]\n",
    "\n",
    "print(*matrix_dot_matrix(X, Y), sep='\\n')"
   ]
  }
 ],
 "metadata": {
  "kernelspec": {
   "display_name": "Python 3",
   "language": "python",
   "name": "python3"
  },
  "language_info": {
   "codemirror_mode": {
    "name": "ipython",
    "version": 3
   },
   "file_extension": ".py",
   "mimetype": "text/x-python",
   "name": "python",
   "nbconvert_exporter": "python",
   "pygments_lexer": "ipython3",
   "version": "3.7.2"
  }
 },
 "nbformat": 4,
 "nbformat_minor": 2
}
